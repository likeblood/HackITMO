{
 "cells": [
  {
   "cell_type": "markdown",
   "id": "3a69df24",
   "metadata": {},
   "source": [
    "###  Хакатон"
   ]
  },
  {
   "cell_type": "code",
   "execution_count": 1,
   "id": "2a0e649c",
   "metadata": {},
   "outputs": [],
   "source": [
    "import pandas as pd\n",
    "from catboost import Pool, CatBoostClassifier\n",
    "import matplotlib.pyplot as plt\n",
    "import os\n",
    "from sklearn.model_selection import train_test_split \n",
    "\n",
    "import nltk \n",
    "import re\n",
    "import pymorphy2\n",
    "from nltk.stem import WordNetLemmatizer \n",
    "from nltk.corpus import stopwords\n",
    "\n",
    "from tqdm import tqdm\n",
    "\n",
    "import sklearn.metrics as sk_met # для оценки модели \n",
    "\n",
    "\n",
    "%matplotlib inline"
   ]
  },
  {
   "cell_type": "code",
   "execution_count": 2,
   "id": "42293937",
   "metadata": {},
   "outputs": [],
   "source": [
    "# nltk.download('stopwords')\n",
    "# nltk.download('wordnet')\n",
    "# nltk.download('punkt')"
   ]
  },
  {
   "cell_type": "code",
   "execution_count": 3,
   "id": "da8c6ab3",
   "metadata": {},
   "outputs": [],
   "source": [
    "data_path = \"../data/russian_inappropriate_messages/\""
   ]
  },
  {
   "cell_type": "code",
   "execution_count": 8,
   "id": "c590e57e",
   "metadata": {},
   "outputs": [],
   "source": [
    "def convert(data_path, file, new_file):\n",
    "    file_name = os.path.join(data_path, file)\n",
    "    cols = [\"text\", \"inappropriate\"]\n",
    "    df = pd.read_csv(file_name, usecols=cols)\n",
    "    df.dropna(inplace=True)\n",
    "    mask = (df.inappropriate == 0.0) | (df.inappropriate == 1.0)\n",
    "    df = df.loc[mask, [\"text\", \"inappropriate\"]]\n",
    "    df[\"inappropriate\"] = df[\"inappropriate\"].astype(\"int\")    \n",
    "    new_file_name = os.path.join(data_path, new_file)\n",
    "    df.to_csv(new_file_name, index=0)\n",
    "    return\n",
    "\n",
    "in_file = [\"train.csv\", \"val.csv\", \"test.csv\"]\n",
    "out_file = [\"train_new.csv\", \"val_new.csv\", \"test_new.csv\"]\n",
    "for file_in, file_out in zip(in_file, out_file):\n",
    "    convert(data_path, file_in, file_out)"
   ]
  },
  {
   "cell_type": "code",
   "execution_count": null,
   "id": "1c963156",
   "metadata": {},
   "outputs": [],
   "source": []
  },
  {
   "cell_type": "code",
   "execution_count": 9,
   "id": "44451fac",
   "metadata": {},
   "outputs": [
    {
     "name": "stdout",
     "output_type": "stream",
     "text": [
      "{'без', 'нас', 'разве', 'впрочем', 'бы', 'мне', 'этот', 'теперь', 'тогда', 'хорошо', 'при', 'всегда', 'он', 'не', 'со', 'ничего', 'этом', 'между', 'и', 'этой', 'три', 'с', 'нее', 'чуть', 'по', 'под', 'потом', 'что', 'на', 'вдруг', 'все', 'себя', 'того', 'перед', 'вас', 'совсем', 'был', 'же', 'лучше', 'их', 'ну', 'есть', 'от', 'этого', 'ей', 'во', 'меня', 'больше', 'ведь', 'ее', 'всех', 'себе', 'ни', 'ж', 'том', 'если', 'то', 'ним', 'опять', 'она', 'нет', 'когда', 'вот', 'моя', 'другой', 'из', 'потому', 'нибудь', 'можно', 'где', 'они', 'всю', 'была', 'через', 'в', 'сейчас', 'даже', 'были', 'об', 'еще', 'только', 'чтобы', 'два', 'раз', 'тот', 'куда', 'о', 'много', 'да', 'чего', 'иногда', 'к', 'за', 'будет', 'зачем', 'тут', 'такой', 'было', 'тебя', 'вы', 'свою', 'никогда', 'но', 'быть', 'эти', 'чем', 'у', 'уж', 'ней', 'может', 'тоже', 'всего', 'для', 'или', 'после', 'сам', 'про', 'вам', 'один', 'ему', 'более', 'до', 'надо', 'конечно', 'его', 'я', 'какая', 'ты', 'почти', 'чтоб', 'так', 'им', 'как', 'них', 'какой', 'уже', 'него', 'ли', 'мой', 'а', 'над', 'будто', 'эту', 'тем', 'наконец', 'кто', 'там', 'здесь', 'нельзя', 'хоть', 'мы'}\n"
     ]
    }
   ],
   "source": [
    "stop_words = set(stopwords.words('russian'))\n",
    "print(stop_words)"
   ]
  },
  {
   "cell_type": "markdown",
   "id": "a856a4ee",
   "metadata": {},
   "source": [
    "### Приведение к нормальной форме (нижний регистр и лемматизация)"
   ]
  },
  {
   "cell_type": "code",
   "execution_count": 10,
   "id": "4f93b3d4",
   "metadata": {},
   "outputs": [],
   "source": [
    "def lemmatized(df_train, text_col):\n",
    "    # нормализация текста: приведение к нижнему регистру, удаление различных символов\n",
    "    df_train[text_col] = df_train[text_col].str.lower()\n",
    "    df_train[text_col] = df_train[text_col].str.replace(',', ' ')\n",
    "    df_train[text_col] = df_train[text_col].str.replace('.', ' ')\n",
    "    df_train[text_col] = df_train[text_col].str.replace('-', ' ')\n",
    "    df_train[text_col] = df_train[text_col].str.replace(';', ' ')\n",
    "    df_train[text_col] = df_train[text_col].str.replace(':', ' ')\n",
    "    df_train[text_col] = df_train[text_col].str.replace('(', ' ')\n",
    "    df_train[text_col] = df_train[text_col].str.replace(')', ' ')\n",
    "    df_train[text_col] = df_train[text_col].str.replace('}', ' ')\n",
    "    df_train[text_col] = df_train[text_col].str.replace('{', ' ')\n",
    "    df_train[text_col] = df_train[text_col].str.replace('<', ' ')\n",
    "    df_train[text_col] = df_train[text_col].str.replace('>', ' ')\n",
    "\n",
    "    df_train[text_col] = df_train[text_col].str.replace('!', ' ')\n",
    "    df_train[text_col] = df_train[text_col].str.replace(r'\\d+', ' ')\n",
    "    df_train[text_col] = df_train[text_col].str.replace(r'[\\W]+', ' ')\n",
    "    \n",
    "    return df_train\n",
    "\n",
    "# приведение токенов входящих в текст к нормальной форме\n",
    "def norm(text, morph):  \n",
    "    text_norm = ''  \n",
    "    for token in nltk.word_tokenize(text):\n",
    "        # print('token = ', token)\n",
    "        token_norm = morph.parse(token)[0].normal_form\n",
    "        if token_norm not in stop_words:        \n",
    "            text_norm = text_norm + ' ' + token_norm\n",
    "        # print('text_norm', text_norm)        \n",
    "    return text_norm\n",
    "\n",
    "def norm_all_df(df_train, text_col):\n",
    "    # приведение к нормальной форме всех отзывов\n",
    "    morph = pymorphy2.MorphAnalyzer()\n",
    "    N = df_train.shape[0]\n",
    "#     N = 100\n",
    "    with tqdm(total=N) as progress_bar:    \n",
    "        for i in range(N):\n",
    "            #print('i = ', i)\n",
    "            df_train.loc[i, text_col] = norm(df_train.loc[i, text_col], morph)\n",
    "            progress_bar.update()\n",
    "    return df_train"
   ]
  },
  {
   "cell_type": "code",
   "execution_count": 11,
   "id": "4a1c277f",
   "metadata": {},
   "outputs": [
    {
     "name": "stderr",
     "output_type": "stream",
     "text": [
      "/tmp/ipykernel_116421/4080072856.py:5: FutureWarning: The default value of regex will change from True to False in a future version. In addition, single character regular expressions will *not* be treated as literal strings when regex=True.\n",
      "  df_train[text_col] = df_train[text_col].str.replace('.', ' ')\n",
      "/tmp/ipykernel_116421/4080072856.py:9: FutureWarning: The default value of regex will change from True to False in a future version. In addition, single character regular expressions will *not* be treated as literal strings when regex=True.\n",
      "  df_train[text_col] = df_train[text_col].str.replace('(', ' ')\n",
      "/tmp/ipykernel_116421/4080072856.py:10: FutureWarning: The default value of regex will change from True to False in a future version. In addition, single character regular expressions will *not* be treated as literal strings when regex=True.\n",
      "  df_train[text_col] = df_train[text_col].str.replace(')', ' ')\n",
      "/tmp/ipykernel_116421/4080072856.py:11: FutureWarning: The default value of regex will change from True to False in a future version. In addition, single character regular expressions will *not* be treated as literal strings when regex=True.\n",
      "  df_train[text_col] = df_train[text_col].str.replace('}', ' ')\n",
      "/tmp/ipykernel_116421/4080072856.py:12: FutureWarning: The default value of regex will change from True to False in a future version. In addition, single character regular expressions will *not* be treated as literal strings when regex=True.\n",
      "  df_train[text_col] = df_train[text_col].str.replace('{', ' ')\n",
      "/tmp/ipykernel_116421/4080072856.py:17: FutureWarning: The default value of regex will change from True to False in a future version.\n",
      "  df_train[text_col] = df_train[text_col].str.replace(r'\\d+', ' ')\n",
      "/tmp/ipykernel_116421/4080072856.py:18: FutureWarning: The default value of regex will change from True to False in a future version.\n",
      "  df_train[text_col] = df_train[text_col].str.replace(r'[\\W]+', ' ')\n",
      "100%|█████████████████████████████████████████████████████████████████████████████████████████████| 84903/84903 [03:32<00:00, 400.04it/s]\n",
      "/tmp/ipykernel_116421/4080072856.py:5: FutureWarning: The default value of regex will change from True to False in a future version. In addition, single character regular expressions will *not* be treated as literal strings when regex=True.\n",
      "  df_train[text_col] = df_train[text_col].str.replace('.', ' ')\n",
      "/tmp/ipykernel_116421/4080072856.py:9: FutureWarning: The default value of regex will change from True to False in a future version. In addition, single character regular expressions will *not* be treated as literal strings when regex=True.\n",
      "  df_train[text_col] = df_train[text_col].str.replace('(', ' ')\n",
      "/tmp/ipykernel_116421/4080072856.py:10: FutureWarning: The default value of regex will change from True to False in a future version. In addition, single character regular expressions will *not* be treated as literal strings when regex=True.\n",
      "  df_train[text_col] = df_train[text_col].str.replace(')', ' ')\n",
      "/tmp/ipykernel_116421/4080072856.py:11: FutureWarning: The default value of regex will change from True to False in a future version. In addition, single character regular expressions will *not* be treated as literal strings when regex=True.\n",
      "  df_train[text_col] = df_train[text_col].str.replace('}', ' ')\n",
      "/tmp/ipykernel_116421/4080072856.py:12: FutureWarning: The default value of regex will change from True to False in a future version. In addition, single character regular expressions will *not* be treated as literal strings when regex=True.\n",
      "  df_train[text_col] = df_train[text_col].str.replace('{', ' ')\n",
      "/tmp/ipykernel_116421/4080072856.py:17: FutureWarning: The default value of regex will change from True to False in a future version.\n",
      "  df_train[text_col] = df_train[text_col].str.replace(r'\\d+', ' ')\n",
      "/tmp/ipykernel_116421/4080072856.py:18: FutureWarning: The default value of regex will change from True to False in a future version.\n",
      "  df_train[text_col] = df_train[text_col].str.replace(r'[\\W]+', ' ')\n",
      "100%|█████████████████████████████████████████████████████████████████████████████████████████████| 10604/10604 [00:27<00:00, 388.62it/s]\n",
      "/tmp/ipykernel_116421/4080072856.py:5: FutureWarning: The default value of regex will change from True to False in a future version. In addition, single character regular expressions will *not* be treated as literal strings when regex=True.\n",
      "  df_train[text_col] = df_train[text_col].str.replace('.', ' ')\n",
      "/tmp/ipykernel_116421/4080072856.py:9: FutureWarning: The default value of regex will change from True to False in a future version. In addition, single character regular expressions will *not* be treated as literal strings when regex=True.\n",
      "  df_train[text_col] = df_train[text_col].str.replace('(', ' ')\n",
      "/tmp/ipykernel_116421/4080072856.py:10: FutureWarning: The default value of regex will change from True to False in a future version. In addition, single character regular expressions will *not* be treated as literal strings when regex=True.\n",
      "  df_train[text_col] = df_train[text_col].str.replace(')', ' ')\n",
      "/tmp/ipykernel_116421/4080072856.py:11: FutureWarning: The default value of regex will change from True to False in a future version. In addition, single character regular expressions will *not* be treated as literal strings when regex=True.\n",
      "  df_train[text_col] = df_train[text_col].str.replace('}', ' ')\n",
      "/tmp/ipykernel_116421/4080072856.py:12: FutureWarning: The default value of regex will change from True to False in a future version. In addition, single character regular expressions will *not* be treated as literal strings when regex=True.\n",
      "  df_train[text_col] = df_train[text_col].str.replace('{', ' ')\n",
      "/tmp/ipykernel_116421/4080072856.py:17: FutureWarning: The default value of regex will change from True to False in a future version.\n",
      "  df_train[text_col] = df_train[text_col].str.replace(r'\\d+', ' ')\n",
      "/tmp/ipykernel_116421/4080072856.py:18: FutureWarning: The default value of regex will change from True to False in a future version.\n",
      "  df_train[text_col] = df_train[text_col].str.replace(r'[\\W]+', ' ')\n",
      "100%|█████████████████████████████████████████████████████████████████████████████████████████████| 10565/10565 [00:26<00:00, 391.38it/s]\n"
     ]
    }
   ],
   "source": [
    "def lemmatized_data(data_path, file_in, file_out):\n",
    "    df = pd.read_csv(os.path.join(data_path, file_in))    \n",
    "    file_lemmatized = os.path.join(data_path, file_out)\n",
    "\n",
    "    text_col = 'text' # имя колонки с текстом\n",
    "\n",
    "    df_with_lemm = lemmatized(df, text_col)\n",
    "    df_with_lemm = norm_all_df(df_with_lemm, text_col)\n",
    "    df_with_lemm.dropna(inplace=True)\n",
    "    df_with_lemm.to_csv(file_lemmatized, sep=\";\", index=False)\n",
    "    return\n",
    "\n",
    "in_file = [\"train_new.csv\", \"val_new.csv\", \"test_new.csv\"]\n",
    "out_file = [\"train_lemm.csv\", \"val_lemm.csv\", \"test_lemm.csv\"]\n",
    "for file_in, file_out in zip(in_file, out_file):\n",
    "    lemmatized_data(data_path, file_in, file_out)"
   ]
  },
  {
   "cell_type": "code",
   "execution_count": 14,
   "id": "bb696ca2",
   "metadata": {},
   "outputs": [],
   "source": [
    "# df = pd.read_csv(os.path.join(data_path, \"train_lemm.csv\"), sep=\";\")\n",
    "# df.info()"
   ]
  },
  {
   "cell_type": "code",
   "execution_count": 15,
   "id": "dc5496dd",
   "metadata": {},
   "outputs": [],
   "source": [
    "# df.dropna(inplace=True)\n",
    "# df.info()"
   ]
  },
  {
   "cell_type": "code",
   "execution_count": 19,
   "id": "47f60117",
   "metadata": {},
   "outputs": [],
   "source": [
    "def drop_na(data_path, file):\n",
    "    file_name = os.path.join(data_path, file)\n",
    "    df = pd.read_csv(file_name, sep=\";\")\n",
    "    df.dropna(inplace=True)\n",
    "    df.to_csv(file_name, index=False, sep=\";\")\n",
    "    \n",
    "    return\n",
    "    \n",
    "for file in [\"train_lemm.csv\", \"val_lemm.csv\", \"test_lemm.csv\"]:\n",
    "    drop_na(data_path, file)\n",
    "    "
   ]
  },
  {
   "cell_type": "markdown",
   "id": "d6679bfc",
   "metadata": {},
   "source": [
    "### Обучим"
   ]
  },
  {
   "cell_type": "code",
   "execution_count": 20,
   "id": "6fe9dde7",
   "metadata": {},
   "outputs": [
    {
     "data": {
      "text/html": [
       "<div>\n",
       "<style scoped>\n",
       "    .dataframe tbody tr th:only-of-type {\n",
       "        vertical-align: middle;\n",
       "    }\n",
       "\n",
       "    .dataframe tbody tr th {\n",
       "        vertical-align: top;\n",
       "    }\n",
       "\n",
       "    .dataframe thead th {\n",
       "        text-align: right;\n",
       "    }\n",
       "</style>\n",
       "<table border=\"1\" class=\"dataframe\">\n",
       "  <thead>\n",
       "    <tr style=\"text-align: right;\">\n",
       "      <th></th>\n",
       "      <th>text</th>\n",
       "      <th>inappropriate</th>\n",
       "    </tr>\n",
       "  </thead>\n",
       "  <tbody>\n",
       "    <tr>\n",
       "      <th>0</th>\n",
       "      <td>думать левиафан это медленный страхоебин numb...</td>\n",
       "      <td>1</td>\n",
       "    </tr>\n",
       "    <tr>\n",
       "      <th>1</th>\n",
       "      <td>напоминать пора искать актис невзрослый прон</td>\n",
       "      <td>1</td>\n",
       "    </tr>\n",
       "    <tr>\n",
       "      <th>2</th>\n",
       "      <td>курить год пятнадцать никакой проблема кроме ...</td>\n",
       "      <td>1</td>\n",
       "    </tr>\n",
       "    <tr>\n",
       "      <th>3</th>\n",
       "      <td>окей провести парад гетеросексуал гей ущемлят...</td>\n",
       "      <td>1</td>\n",
       "    </tr>\n",
       "    <tr>\n",
       "      <th>4</th>\n",
       "      <td>напоминать ватник сша общий налог весь number...</td>\n",
       "      <td>1</td>\n",
       "    </tr>\n",
       "  </tbody>\n",
       "</table>\n",
       "</div>"
      ],
      "text/plain": [
       "                                                text  inappropriate\n",
       "0   думать левиафан это медленный страхоебин numb...              1\n",
       "1       напоминать пора искать актис невзрослый прон              1\n",
       "2   курить год пятнадцать никакой проблема кроме ...              1\n",
       "3   окей провести парад гетеросексуал гей ущемлят...              1\n",
       "4   напоминать ватник сша общий налог весь number...              1"
      ]
     },
     "execution_count": 20,
     "metadata": {},
     "output_type": "execute_result"
    }
   ],
   "source": [
    "target_col = \"inappropriate\"\n",
    "train = pd.read_csv(os.path.join(data_path, \"train_lemm.csv\"), sep=\";\")\n",
    "train.head()"
   ]
  },
  {
   "cell_type": "code",
   "execution_count": 25,
   "id": "71ff5dae",
   "metadata": {},
   "outputs": [
    {
     "data": {
      "text/html": [
       "<div>\n",
       "<style scoped>\n",
       "    .dataframe tbody tr th:only-of-type {\n",
       "        vertical-align: middle;\n",
       "    }\n",
       "\n",
       "    .dataframe tbody tr th {\n",
       "        vertical-align: top;\n",
       "    }\n",
       "\n",
       "    .dataframe thead th {\n",
       "        text-align: right;\n",
       "    }\n",
       "</style>\n",
       "<table border=\"1\" class=\"dataframe\">\n",
       "  <thead>\n",
       "    <tr style=\"text-align: right;\">\n",
       "      <th></th>\n",
       "      <th>text</th>\n",
       "      <th>inappropriate</th>\n",
       "    </tr>\n",
       "  </thead>\n",
       "  <tbody>\n",
       "    <tr>\n",
       "      <th>0</th>\n",
       "      <td>это ширина длина член number диаметр смочь но...</td>\n",
       "      <td>1</td>\n",
       "    </tr>\n",
       "    <tr>\n",
       "      <th>1</th>\n",
       "      <td>красава др хаебуса сделать</td>\n",
       "      <td>1</td>\n",
       "    </tr>\n",
       "    <tr>\n",
       "      <th>2</th>\n",
       "      <td>судебный атака обнулить внезапно умереть коро...</td>\n",
       "      <td>1</td>\n",
       "    </tr>\n",
       "  </tbody>\n",
       "</table>\n",
       "</div>"
      ],
      "text/plain": [
       "                                                text  inappropriate\n",
       "0   это ширина длина член number диаметр смочь но...              1\n",
       "1                         красава др хаебуса сделать              1\n",
       "2   судебный атака обнулить внезапно умереть коро...              1"
      ]
     },
     "execution_count": 25,
     "metadata": {},
     "output_type": "execute_result"
    }
   ],
   "source": [
    "val = pd.read_csv(os.path.join(data_path, \"val_lemm.csv\"), sep=\";\")\n",
    "val.head(3)"
   ]
  },
  {
   "cell_type": "code",
   "execution_count": 26,
   "id": "b10e0fa3",
   "metadata": {},
   "outputs": [
    {
     "data": {
      "text/plain": [
       "0    63058\n",
       "1    21824\n",
       "Name: inappropriate, dtype: int64"
      ]
     },
     "execution_count": 26,
     "metadata": {},
     "output_type": "execute_result"
    }
   ],
   "source": [
    "train.inappropriate.value_counts()"
   ]
  },
  {
   "cell_type": "code",
   "execution_count": 27,
   "id": "27f674a2",
   "metadata": {},
   "outputs": [
    {
     "data": {
      "text/plain": [
       "0    7886\n",
       "1    2716\n",
       "Name: inappropriate, dtype: int64"
      ]
     },
     "execution_count": 27,
     "metadata": {},
     "output_type": "execute_result"
    }
   ],
   "source": [
    "val.inappropriate.value_counts()"
   ]
  },
  {
   "cell_type": "code",
   "execution_count": 31,
   "id": "27cef1e2",
   "metadata": {},
   "outputs": [],
   "source": [
    "def fit_catboost(\n",
    "    X_train, \n",
    "    X_test, \n",
    "    y_train, \n",
    "    y_test, \n",
    "    catboost_params = {},\n",
    "    verbose = 100\n",
    "):\n",
    "    learn_pool = Pool(\n",
    "        X_train, \n",
    "        y_train, \n",
    "        text_features=[\"text\"], \n",
    "        feature_names=[\"text\"]\n",
    "    )\n",
    "    test_pool = Pool(\n",
    "        X_test, \n",
    "        y_test, \n",
    "        text_features=[\"text\"],\n",
    "        feature_names=[\"text\"]\n",
    "    )\n",
    "    catboost_default_params = {\n",
    "        'iterations': 5000,\n",
    "        'learning_rate': 0.015,\n",
    "        'eval_metric': 'F1',\n",
    "        'task_type': 'GPU',\n",
    "        'use_best_model': True\n",
    "    }\n",
    "    catboost_default_params.update(catboost_params)\n",
    "    \n",
    "    model = CatBoostClassifier(**catboost_default_params)\n",
    "    model.fit(learn_pool, eval_set=test_pool, verbose=verbose)\n",
    "    return model\n",
    "\n"
   ]
  },
  {
   "cell_type": "code",
   "execution_count": 29,
   "id": "734e9182",
   "metadata": {},
   "outputs": [],
   "source": [
    "X_train = train[[\"text\"]]\n",
    "X_val = val[[\"text\"]]\n",
    "y_train = train[target_col]\n",
    "y_val = val[target_col]"
   ]
  },
  {
   "cell_type": "code",
   "execution_count": 32,
   "id": "42ef4b16",
   "metadata": {},
   "outputs": [
    {
     "name": "stdout",
     "output_type": "stream",
     "text": [
      "0:\tlearn: 0.2265108\ttest: 0.2388729\tbest: 0.2388729 (0)\ttotal: 10.4ms\tremaining: 52.1s\n",
      "100:\tlearn: 0.4910872\ttest: 0.5166253\tbest: 0.5174721 (94)\ttotal: 829ms\tremaining: 40.2s\n",
      "200:\tlearn: 0.5085406\ttest: 0.5326805\tbest: 0.5326805 (198)\ttotal: 1.61s\tremaining: 38.6s\n",
      "300:\tlearn: 0.5208752\ttest: 0.5422007\tbest: 0.5426844 (297)\ttotal: 2.4s\tremaining: 37.5s\n",
      "400:\tlearn: 0.5290133\ttest: 0.5494717\tbest: 0.5494717 (400)\ttotal: 3.15s\tremaining: 36.1s\n",
      "500:\tlearn: 0.5372518\ttest: 0.5526127\tbest: 0.5526127 (494)\ttotal: 3.89s\tremaining: 34.9s\n",
      "600:\tlearn: 0.5460881\ttest: 0.5602652\tbest: 0.5602652 (584)\ttotal: 4.63s\tremaining: 33.9s\n",
      "700:\tlearn: 0.5505187\ttest: 0.5631480\tbest: 0.5631480 (697)\ttotal: 5.37s\tremaining: 33s\n",
      "800:\tlearn: 0.5553181\ttest: 0.5660023\tbest: 0.5660023 (800)\ttotal: 6.12s\tremaining: 32.1s\n",
      "900:\tlearn: 0.5598549\ttest: 0.5684947\tbest: 0.5684947 (898)\ttotal: 6.91s\tremaining: 31.4s\n",
      "1000:\tlearn: 0.5625441\ttest: 0.5707635\tbest: 0.5707635 (992)\ttotal: 7.66s\tremaining: 30.6s\n",
      "1100:\tlearn: 0.5646442\ttest: 0.5741471\tbest: 0.5741471 (1099)\ttotal: 8.45s\tremaining: 29.9s\n",
      "1200:\tlearn: 0.5660664\ttest: 0.5759259\tbest: 0.5765223 (1153)\ttotal: 9.25s\tremaining: 29.3s\n",
      "1300:\tlearn: 0.5679275\ttest: 0.5773768\tbest: 0.5773768 (1280)\ttotal: 10s\tremaining: 28.5s\n",
      "1400:\tlearn: 0.5697733\ttest: 0.5794694\tbest: 0.5794694 (1399)\ttotal: 10.8s\tremaining: 27.7s\n",
      "1500:\tlearn: 0.5715722\ttest: 0.5805114\tbest: 0.5805114 (1496)\ttotal: 11.5s\tremaining: 26.9s\n",
      "1600:\tlearn: 0.5729585\ttest: 0.5803633\tbest: 0.5808976 (1577)\ttotal: 12.3s\tremaining: 26.2s\n",
      "1700:\tlearn: 0.5742128\ttest: 0.5819936\tbest: 0.5819936 (1699)\ttotal: 13.1s\tremaining: 25.4s\n",
      "1800:\tlearn: 0.5753448\ttest: 0.5836201\tbest: 0.5838111 (1786)\ttotal: 13.8s\tremaining: 24.6s\n",
      "1900:\tlearn: 0.5763899\ttest: 0.5845167\tbest: 0.5848409 (1891)\ttotal: 14.6s\tremaining: 23.8s\n",
      "2000:\tlearn: 0.5774398\ttest: 0.5853547\tbest: 0.5854887 (1958)\ttotal: 15.3s\tremaining: 23s\n",
      "2100:\tlearn: 0.5787562\ttest: 0.5855444\tbest: 0.5856783 (2023)\ttotal: 16.1s\tremaining: 22.2s\n",
      "2200:\tlearn: 0.5801451\ttest: 0.5873487\tbest: 0.5873487 (2200)\ttotal: 16.8s\tremaining: 21.4s\n",
      "2300:\tlearn: 0.5814461\ttest: 0.5879133\tbest: 0.5879133 (2272)\ttotal: 17.6s\tremaining: 20.6s\n",
      "2400:\tlearn: 0.5823708\ttest: 0.5887446\tbest: 0.5896560 (2348)\ttotal: 18.3s\tremaining: 19.8s\n",
      "2500:\tlearn: 0.5832827\ttest: 0.5887978\tbest: 0.5896560 (2348)\ttotal: 19.1s\tremaining: 19.1s\n",
      "2600:\tlearn: 0.5839678\ttest: 0.5896269\tbest: 0.5896560 (2348)\ttotal: 19.9s\tremaining: 18.3s\n",
      "2700:\tlearn: 0.5845280\ttest: 0.5899477\tbest: 0.5899477 (2659)\ttotal: 20.6s\tremaining: 17.5s\n",
      "2800:\tlearn: 0.5855392\ttest: 0.5909091\tbest: 0.5909091 (2781)\ttotal: 21.4s\tremaining: 16.8s\n",
      "2900:\tlearn: 0.5862439\ttest: 0.5905065\tbest: 0.5909091 (2781)\ttotal: 22.2s\tremaining: 16s\n",
      "3000:\tlearn: 0.5868339\ttest: 0.5903204\tbest: 0.5910950 (2975)\ttotal: 22.9s\tremaining: 15.3s\n",
      "3100:\tlearn: 0.5875949\ttest: 0.5916515\tbest: 0.5916515 (3100)\ttotal: 23.7s\tremaining: 14.5s\n",
      "3200:\tlearn: 0.5880510\ttest: 0.5921053\tbest: 0.5925590 (3150)\ttotal: 24.4s\tremaining: 13.7s\n",
      "3300:\tlearn: 0.5889298\ttest: 0.5923408\tbest: 0.5932472 (3263)\ttotal: 25.1s\tremaining: 12.9s\n",
      "3400:\tlearn: 0.5896521\ttest: 0.5924417\tbest: 0.5932472 (3263)\ttotal: 25.9s\tremaining: 12.2s\n",
      "3500:\tlearn: 0.5903545\ttest: 0.5935805\tbest: 0.5937147 (3488)\ttotal: 26.6s\tremaining: 11.4s\n",
      "3600:\tlearn: 0.5908530\ttest: 0.5925424\tbest: 0.5937147 (3488)\ttotal: 27.4s\tremaining: 10.6s\n",
      "3700:\tlearn: 0.5913610\ttest: 0.5933122\tbest: 0.5937147 (3488)\ttotal: 28.1s\tremaining: 9.87s\n",
      "3800:\tlearn: 0.5918077\ttest: 0.5933619\tbest: 0.5937147 (3488)\ttotal: 28.9s\tremaining: 9.12s\n",
      "3900:\tlearn: 0.5925480\ttest: 0.5934611\tbest: 0.5937147 (3488)\ttotal: 29.7s\tremaining: 8.36s\n",
      "4000:\tlearn: 0.5928802\ttest: 0.5937782\tbest: 0.5937782 (3970)\ttotal: 30.6s\tremaining: 7.63s\n",
      "4100:\tlearn: 0.5935664\ttest: 0.5938274\tbest: 0.5939612 (4058)\ttotal: 31.4s\tremaining: 6.88s\n",
      "4200:\tlearn: 0.5937910\ttest: 0.5950934\tbest: 0.5950934 (4191)\ttotal: 32.1s\tremaining: 6.11s\n",
      "4300:\tlearn: 0.5941443\ttest: 0.5949595\tbest: 0.5950934 (4191)\ttotal: 32.9s\tremaining: 5.34s\n",
      "4400:\tlearn: 0.5947968\ttest: 0.5954095\tbest: 0.5957255 (4358)\ttotal: 33.6s\tremaining: 4.58s\n",
      "4500:\tlearn: 0.5952849\ttest: 0.5960890\tbest: 0.5962230 (4499)\ttotal: 34.4s\tremaining: 3.81s\n",
      "4600:\tlearn: 0.5957888\ttest: 0.5959551\tbest: 0.5964045 (4582)\ttotal: 35.1s\tremaining: 3.04s\n",
      "4700:\tlearn: 0.5960684\ttest: 0.5961366\tbest: 0.5964045 (4582)\ttotal: 35.9s\tremaining: 2.28s\n",
      "4800:\tlearn: 0.5965878\ttest: 0.5962705\tbest: 0.5965858 (4776)\ttotal: 36.6s\tremaining: 1.52s\n",
      "4900:\tlearn: 0.5970247\ttest: 0.5970819\tbest: 0.5970819 (4891)\ttotal: 37.4s\tremaining: 755ms\n",
      "4999:\tlearn: 0.5975434\ttest: 0.5979381\tbest: 0.5983864 (4983)\ttotal: 38.1s\tremaining: 0us\n",
      "bestTest = 0.5983863738\n",
      "bestIteration = 4983\n",
      "Shrink model to first 4984 iterations.\n"
     ]
    }
   ],
   "source": [
    "# X_train, X_val, y_train, y_val = train_test_split(\n",
    "#     train[[\"text\"]],\n",
    "#     train[target_col],\n",
    "#     test_size=0.3, \n",
    "#     stratify=train[target_col],\n",
    "#     random_state=42\n",
    "# )\n",
    "cat_boost_model = fit_catboost(X_train, X_val, y_train, y_val)"
   ]
  },
  {
   "cell_type": "code",
   "execution_count": null,
   "id": "ba4e7986",
   "metadata": {},
   "outputs": [],
   "source": []
  },
  {
   "cell_type": "markdown",
   "id": "b3d607e1",
   "metadata": {},
   "source": [
    "### Проверим f1 на данных которые модель не видела"
   ]
  },
  {
   "cell_type": "code",
   "execution_count": 34,
   "id": "f361a7da",
   "metadata": {},
   "outputs": [
    {
     "data": {
      "text/html": [
       "<div>\n",
       "<style scoped>\n",
       "    .dataframe tbody tr th:only-of-type {\n",
       "        vertical-align: middle;\n",
       "    }\n",
       "\n",
       "    .dataframe tbody tr th {\n",
       "        vertical-align: top;\n",
       "    }\n",
       "\n",
       "    .dataframe thead th {\n",
       "        text-align: right;\n",
       "    }\n",
       "</style>\n",
       "<table border=\"1\" class=\"dataframe\">\n",
       "  <thead>\n",
       "    <tr style=\"text-align: right;\">\n",
       "      <th></th>\n",
       "      <th>text</th>\n",
       "      <th>inappropriate</th>\n",
       "    </tr>\n",
       "  </thead>\n",
       "  <tbody>\n",
       "    <tr>\n",
       "      <th>0</th>\n",
       "      <td>тупой хотя проверить насколько удачливпопробо...</td>\n",
       "      <td>1</td>\n",
       "    </tr>\n",
       "    <tr>\n",
       "      <th>1</th>\n",
       "      <td>это начаться война террористомить америка</td>\n",
       "      <td>1</td>\n",
       "    </tr>\n",
       "    <tr>\n",
       "      <th>2</th>\n",
       "      <td>ой никак понять хотеть денюх хотеть большой ж...</td>\n",
       "      <td>1</td>\n",
       "    </tr>\n",
       "    <tr>\n",
       "      <th>3</th>\n",
       "      <td>это плохой пес пасха это например праздновани...</td>\n",
       "      <td>1</td>\n",
       "    </tr>\n",
       "    <tr>\n",
       "      <th>4</th>\n",
       "      <td>насчёт шизофрения считать это плохой подарок ...</td>\n",
       "      <td>1</td>\n",
       "    </tr>\n",
       "  </tbody>\n",
       "</table>\n",
       "</div>"
      ],
      "text/plain": [
       "                                                text  inappropriate\n",
       "0   тупой хотя проверить насколько удачливпопробо...              1\n",
       "1          это начаться война террористомить америка              1\n",
       "2   ой никак понять хотеть денюх хотеть большой ж...              1\n",
       "3   это плохой пес пасха это например праздновани...              1\n",
       "4   насчёт шизофрения считать это плохой подарок ...              1"
      ]
     },
     "execution_count": 34,
     "metadata": {},
     "output_type": "execute_result"
    }
   ],
   "source": [
    "test = pd.read_csv(os.path.join(data_path, \"test_lemm.csv\"), sep=\";\")\n",
    "test.head()"
   ]
  },
  {
   "cell_type": "code",
   "execution_count": 35,
   "id": "4c81a94b",
   "metadata": {},
   "outputs": [
    {
     "data": {
      "text/html": [
       "<div>\n",
       "<style scoped>\n",
       "    .dataframe tbody tr th:only-of-type {\n",
       "        vertical-align: middle;\n",
       "    }\n",
       "\n",
       "    .dataframe tbody tr th {\n",
       "        vertical-align: top;\n",
       "    }\n",
       "\n",
       "    .dataframe thead th {\n",
       "        text-align: right;\n",
       "    }\n",
       "</style>\n",
       "<table border=\"1\" class=\"dataframe\">\n",
       "  <thead>\n",
       "    <tr style=\"text-align: right;\">\n",
       "      <th></th>\n",
       "      <th>text</th>\n",
       "    </tr>\n",
       "  </thead>\n",
       "  <tbody>\n",
       "    <tr>\n",
       "      <th>0</th>\n",
       "      <td>тупой хотя проверить насколько удачливпопробо...</td>\n",
       "    </tr>\n",
       "    <tr>\n",
       "      <th>1</th>\n",
       "      <td>это начаться война террористомить америка</td>\n",
       "    </tr>\n",
       "    <tr>\n",
       "      <th>2</th>\n",
       "      <td>ой никак понять хотеть денюх хотеть большой ж...</td>\n",
       "    </tr>\n",
       "    <tr>\n",
       "      <th>3</th>\n",
       "      <td>это плохой пес пасха это например праздновани...</td>\n",
       "    </tr>\n",
       "    <tr>\n",
       "      <th>4</th>\n",
       "      <td>насчёт шизофрения считать это плохой подарок ...</td>\n",
       "    </tr>\n",
       "  </tbody>\n",
       "</table>\n",
       "</div>"
      ],
      "text/plain": [
       "                                                text\n",
       "0   тупой хотя проверить насколько удачливпопробо...\n",
       "1          это начаться война террористомить америка\n",
       "2   ой никак понять хотеть денюх хотеть большой ж...\n",
       "3   это плохой пес пасха это например праздновани...\n",
       "4   насчёт шизофрения считать это плохой подарок ..."
      ]
     },
     "execution_count": 35,
     "metadata": {},
     "output_type": "execute_result"
    }
   ],
   "source": [
    "X_test, y_test = test[[\"text\"]], test[target_col]\n",
    "X_test.head()"
   ]
  },
  {
   "cell_type": "code",
   "execution_count": 36,
   "id": "169e7f57",
   "metadata": {},
   "outputs": [
    {
     "name": "stdout",
     "output_type": "stream",
     "text": [
      "F1-score на тестовой выборке: 0.743 \n",
      "\n"
     ]
    }
   ],
   "source": [
    "y_pred = cat_boost_model.predict(X_test)\n",
    "print(\n",
    "    'F1-score на тестовой выборке: {:.3f} \\n'\n",
    "    .format(\n",
    "        sk_met.f1_score(\n",
    "            y_test, \n",
    "            y_pred, \n",
    "            average = 'macro')\n",
    "    )\n",
    ")"
   ]
  },
  {
   "cell_type": "code",
   "execution_count": 37,
   "id": "c2e02611",
   "metadata": {},
   "outputs": [],
   "source": [
    "cat_boost_model.save_model(\"hack_model_russian\")"
   ]
  },
  {
   "cell_type": "code",
   "execution_count": null,
   "id": "50e49c31",
   "metadata": {},
   "outputs": [],
   "source": []
  }
 ],
 "metadata": {
  "kernelspec": {
   "display_name": "Python 3",
   "language": "python",
   "name": "python3"
  },
  "language_info": {
   "codemirror_mode": {
    "name": "ipython",
    "version": 3
   },
   "file_extension": ".py",
   "mimetype": "text/x-python",
   "name": "python",
   "nbconvert_exporter": "python",
   "pygments_lexer": "ipython3",
   "version": "3.9.12"
  }
 },
 "nbformat": 4,
 "nbformat_minor": 5
}
