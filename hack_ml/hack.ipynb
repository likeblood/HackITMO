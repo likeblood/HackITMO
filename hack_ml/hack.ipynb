{
 "cells": [
  {
   "cell_type": "markdown",
   "id": "3a69df24",
   "metadata": {},
   "source": [
    "###  Хакатон"
   ]
  },
  {
   "cell_type": "code",
   "execution_count": 1,
   "id": "2a0e649c",
   "metadata": {},
   "outputs": [],
   "source": [
    "import pandas as pd\n",
    "from catboost import Pool, CatBoostClassifier\n",
    "import matplotlib.pyplot as plt\n",
    "import os\n",
    "from sklearn.model_selection import train_test_split \n",
    "\n",
    "%matplotlib inline"
   ]
  },
  {
   "cell_type": "code",
   "execution_count": 2,
   "id": "da8c6ab3",
   "metadata": {},
   "outputs": [],
   "source": [
    "data_path = \"../data/\"\n",
    "file_data = \"labeled.csv\"\n",
    "file_data = os.path.join(data_path, file_data)"
   ]
  },
  {
   "cell_type": "code",
   "execution_count": 3,
   "id": "ec0a9d58",
   "metadata": {},
   "outputs": [
    {
     "name": "stdout",
     "output_type": "stream",
     "text": [
      "<class 'pandas.core.frame.DataFrame'>\n",
      "RangeIndex: 14412 entries, 0 to 14411\n",
      "Data columns (total 2 columns):\n",
      " #   Column   Non-Null Count  Dtype  \n",
      "---  ------   --------------  -----  \n",
      " 0   comment  14412 non-null  object \n",
      " 1   toxic    14412 non-null  float64\n",
      "dtypes: float64(1), object(1)\n",
      "memory usage: 225.3+ KB\n"
     ]
    }
   ],
   "source": [
    "data = pd.read_csv(file_data)\n",
    "data.info()"
   ]
  },
  {
   "cell_type": "code",
   "execution_count": 4,
   "id": "9169a9fa",
   "metadata": {},
   "outputs": [
    {
     "data": {
      "text/html": [
       "<div>\n",
       "<style scoped>\n",
       "    .dataframe tbody tr th:only-of-type {\n",
       "        vertical-align: middle;\n",
       "    }\n",
       "\n",
       "    .dataframe tbody tr th {\n",
       "        vertical-align: top;\n",
       "    }\n",
       "\n",
       "    .dataframe thead th {\n",
       "        text-align: right;\n",
       "    }\n",
       "</style>\n",
       "<table border=\"1\" class=\"dataframe\">\n",
       "  <thead>\n",
       "    <tr style=\"text-align: right;\">\n",
       "      <th></th>\n",
       "      <th>comment</th>\n",
       "      <th>toxic</th>\n",
       "    </tr>\n",
       "  </thead>\n",
       "  <tbody>\n",
       "    <tr>\n",
       "      <th>0</th>\n",
       "      <td>Верблюдов-то за что? Дебилы, бл...\\n</td>\n",
       "      <td>1.0</td>\n",
       "    </tr>\n",
       "    <tr>\n",
       "      <th>1</th>\n",
       "      <td>Хохлы, это отдушина затюканого россиянина, мол...</td>\n",
       "      <td>1.0</td>\n",
       "    </tr>\n",
       "    <tr>\n",
       "      <th>2</th>\n",
       "      <td>Собаке - собачья смерть\\n</td>\n",
       "      <td>1.0</td>\n",
       "    </tr>\n",
       "    <tr>\n",
       "      <th>3</th>\n",
       "      <td>Страницу обнови, дебил. Это тоже не оскорблени...</td>\n",
       "      <td>1.0</td>\n",
       "    </tr>\n",
       "    <tr>\n",
       "      <th>4</th>\n",
       "      <td>тебя не убедил 6-страничный пдф в том, что Скр...</td>\n",
       "      <td>1.0</td>\n",
       "    </tr>\n",
       "  </tbody>\n",
       "</table>\n",
       "</div>"
      ],
      "text/plain": [
       "                                             comment  toxic\n",
       "0               Верблюдов-то за что? Дебилы, бл...\\n    1.0\n",
       "1  Хохлы, это отдушина затюканого россиянина, мол...    1.0\n",
       "2                          Собаке - собачья смерть\\n    1.0\n",
       "3  Страницу обнови, дебил. Это тоже не оскорблени...    1.0\n",
       "4  тебя не убедил 6-страничный пдф в том, что Скр...    1.0"
      ]
     },
     "execution_count": 4,
     "metadata": {},
     "output_type": "execute_result"
    }
   ],
   "source": [
    "data.head()"
   ]
  },
  {
   "cell_type": "code",
   "execution_count": 5,
   "id": "60cab43c",
   "metadata": {},
   "outputs": [
    {
     "data": {
      "text/plain": [
       "0.0    9586\n",
       "1.0    4826\n",
       "Name: toxic, dtype: int64"
      ]
     },
     "execution_count": 5,
     "metadata": {},
     "output_type": "execute_result"
    }
   ],
   "source": [
    "data.toxic.value_counts()"
   ]
  },
  {
   "cell_type": "code",
   "execution_count": 6,
   "id": "3f1dd81e",
   "metadata": {},
   "outputs": [],
   "source": [
    "df_train, df_test = train_test_split(\n",
    "    data,\n",
    "    test_size=0.2, \n",
    "    stratify=data[\"toxic\"],\n",
    "    random_state=42\n",
    ")\n"
   ]
  },
  {
   "cell_type": "code",
   "execution_count": 7,
   "id": "90688321",
   "metadata": {},
   "outputs": [
    {
     "data": {
      "text/plain": [
       "((11529, 2), (2883, 2))"
      ]
     },
     "execution_count": 7,
     "metadata": {},
     "output_type": "execute_result"
    }
   ],
   "source": [
    "df_train.shape, df_test.shape"
   ]
  },
  {
   "cell_type": "code",
   "execution_count": 8,
   "id": "d98bd0d9",
   "metadata": {},
   "outputs": [
    {
     "data": {
      "text/plain": [
       "(0.0    7668\n",
       " 1.0    3861\n",
       " Name: toxic, dtype: int64,\n",
       " 0.0    1918\n",
       " 1.0     965\n",
       " Name: toxic, dtype: int64)"
      ]
     },
     "execution_count": 8,
     "metadata": {},
     "output_type": "execute_result"
    }
   ],
   "source": [
    "df_train.toxic.value_counts(), df_test.toxic.value_counts()"
   ]
  },
  {
   "cell_type": "code",
   "execution_count": 9,
   "id": "cca6a06d",
   "metadata": {},
   "outputs": [],
   "source": [
    "df_train.to_csv(os.path.join(data_path, \"train.csv\"), index=0)\n",
    "df_test.to_csv(os.path.join(data_path, \"test.csv\"), index=0)"
   ]
  },
  {
   "cell_type": "markdown",
   "id": "d6679bfc",
   "metadata": {},
   "source": [
    "### Обучим"
   ]
  },
  {
   "cell_type": "code",
   "execution_count": 10,
   "id": "6fe9dde7",
   "metadata": {},
   "outputs": [
    {
     "data": {
      "text/html": [
       "<div>\n",
       "<style scoped>\n",
       "    .dataframe tbody tr th:only-of-type {\n",
       "        vertical-align: middle;\n",
       "    }\n",
       "\n",
       "    .dataframe tbody tr th {\n",
       "        vertical-align: top;\n",
       "    }\n",
       "\n",
       "    .dataframe thead th {\n",
       "        text-align: right;\n",
       "    }\n",
       "</style>\n",
       "<table border=\"1\" class=\"dataframe\">\n",
       "  <thead>\n",
       "    <tr style=\"text-align: right;\">\n",
       "      <th></th>\n",
       "      <th>comment</th>\n",
       "      <th>toxic</th>\n",
       "    </tr>\n",
       "  </thead>\n",
       "  <tbody>\n",
       "    <tr>\n",
       "      <th>0</th>\n",
       "      <td>Вы читали закон о банкротстве? Что бы объявить...</td>\n",
       "      <td>0.0</td>\n",
       "    </tr>\n",
       "    <tr>\n",
       "      <th>1</th>\n",
       "      <td>а у сяоми это постоянно</td>\n",
       "      <td>0.0</td>\n",
       "    </tr>\n",
       "    <tr>\n",
       "      <th>2</th>\n",
       "      <td>Хотел занять? Тогда да,проще позвонить , чем у...</td>\n",
       "      <td>1.0</td>\n",
       "    </tr>\n",
       "    <tr>\n",
       "      <th>3</th>\n",
       "      <td>заработки были без работы даже небольшие, но б...</td>\n",
       "      <td>0.0</td>\n",
       "    </tr>\n",
       "    <tr>\n",
       "      <th>4</th>\n",
       "      <td>Езжу каждый день. За этот год почти 30 тыс.\\n</td>\n",
       "      <td>0.0</td>\n",
       "    </tr>\n",
       "  </tbody>\n",
       "</table>\n",
       "</div>"
      ],
      "text/plain": [
       "                                             comment  toxic\n",
       "0  Вы читали закон о банкротстве? Что бы объявить...    0.0\n",
       "1                            а у сяоми это постоянно    0.0\n",
       "2  Хотел занять? Тогда да,проще позвонить , чем у...    1.0\n",
       "3  заработки были без работы даже небольшие, но б...    0.0\n",
       "4      Езжу каждый день. За этот год почти 30 тыс.\\n    0.0"
      ]
     },
     "execution_count": 10,
     "metadata": {},
     "output_type": "execute_result"
    }
   ],
   "source": [
    "train = pd.read_csv(os.path.join(data_path, \"train.csv\"))\n",
    "train.head()"
   ]
  },
  {
   "cell_type": "code",
   "execution_count": 11,
   "id": "27cef1e2",
   "metadata": {},
   "outputs": [],
   "source": [
    "def fit_catboost(\n",
    "    X_train, \n",
    "    X_test, \n",
    "    y_train, \n",
    "    y_test, \n",
    "    catboost_params = {},\n",
    "    verbose = 100\n",
    "):\n",
    "    learn_pool = Pool(\n",
    "        X_train, \n",
    "        y_train, \n",
    "        text_features=[\"text\"], \n",
    "        feature_names=[\"text\"]\n",
    "    )\n",
    "    test_pool = Pool(\n",
    "        X_test, \n",
    "        y_test, \n",
    "        text_features=[\"text\"],\n",
    "        feature_names=[\"text\"]\n",
    "    )\n",
    "    catboost_default_params = {\n",
    "        'iterations': 500,\n",
    "        'learning_rate': 0.05,\n",
    "        'eval_metric': 'F1',\n",
    "        'task_type': 'GPU',\n",
    "        'use_best_model': True\n",
    "    }\n",
    "    catboost_default_params.update(catboost_params)\n",
    "    \n",
    "    model = CatBoostClassifier(**catboost_default_params)\n",
    "    model.fit(learn_pool, eval_set=test_pool, verbose=verbose)\n",
    "    return model\n",
    "\n"
   ]
  },
  {
   "cell_type": "code",
   "execution_count": 12,
   "id": "42ef4b16",
   "metadata": {},
   "outputs": [
    {
     "name": "stdout",
     "output_type": "stream",
     "text": [
      "0:\tlearn: 0.5280431\ttest: 0.5305136\tbest: 0.5305136 (0)\ttotal: 31.1ms\tremaining: 15.5s\n",
      "100:\tlearn: 0.7228871\ttest: 0.7451670\tbest: 0.7477329 (1)\ttotal: 2.38s\tremaining: 9.38s\n",
      "200:\tlearn: 0.7294821\ttest: 0.7457181\tbest: 0.7477329 (1)\ttotal: 4.63s\tremaining: 6.89s\n",
      "300:\tlearn: 0.7341062\ttest: 0.7460317\tbest: 0.7477329 (1)\ttotal: 6.99s\tremaining: 4.62s\n",
      "400:\tlearn: 0.7412117\ttest: 0.7449250\tbest: 0.7477329 (1)\ttotal: 9.37s\tremaining: 2.31s\n",
      "499:\tlearn: 0.7460169\ttest: 0.7446996\tbest: 0.7477329 (1)\ttotal: 11.6s\tremaining: 0us\n",
      "bestTest = 0.7477328937\n",
      "bestIteration = 1\n",
      "Shrink model to first 2 iterations.\n"
     ]
    }
   ],
   "source": [
    "X_train, X_val, y_train, y_val = train_test_split(\n",
    "    train[[\"comment\"]],\n",
    "    train[\"toxic\"],\n",
    "    test_size=0.3, \n",
    "    stratify=train[\"toxic\"],\n",
    "    random_state=42\n",
    ")\n",
    "cat_boost_model = fit_catboost(X_train, X_val, y_train, y_val)"
   ]
  },
  {
   "cell_type": "code",
   "execution_count": 13,
   "id": "c2e02611",
   "metadata": {},
   "outputs": [],
   "source": [
    "cat_boost_model.save_model(\"hack_model\")"
   ]
  },
  {
   "cell_type": "code",
   "execution_count": null,
   "id": "50e49c31",
   "metadata": {},
   "outputs": [],
   "source": []
  }
 ],
 "metadata": {
  "kernelspec": {
   "display_name": "Python 3",
   "language": "python",
   "name": "python3"
  },
  "language_info": {
   "codemirror_mode": {
    "name": "ipython",
    "version": 3
   },
   "file_extension": ".py",
   "mimetype": "text/x-python",
   "name": "python",
   "nbconvert_exporter": "python",
   "pygments_lexer": "ipython3",
   "version": "3.10.4"
  }
 },
 "nbformat": 4,
 "nbformat_minor": 5
}
